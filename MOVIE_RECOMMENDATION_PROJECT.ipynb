{
 "cells": [
  {
   "cell_type": "code",
   "execution_count": 14,
   "id": "3f7c51f3-b82b-47e9-b7de-af79ae0e4c68",
   "metadata": {},
   "outputs": [
    {
     "name": "stdout",
     "output_type": "stream",
     "text": [
      "\n",
      "🎬 Selected Movie: 96 (2018)\n",
      "⭐ Genre: Drama, Romance | 🎥 Director: C. Prem Kumar | 🌍 Language: Tamil\n",
      "🖼️ Poster:\n"
     ]
    },
    {
     "data": {
      "text/html": [
       "<img src=\"https://m.media-amazon.com/images/M/MV5BODFiZDk5MDgtMWMzNy00MTZmLTk2YTQtYjg1NzNmYzJlODJkXkEyXkFqcGc@._V1_SX300.jpg\"/>"
      ],
      "text/plain": [
       "<IPython.core.display.Image object>"
      ]
     },
     "metadata": {},
     "output_type": "display_data"
    },
    {
     "name": "stdout",
     "output_type": "stream",
     "text": [
      "\n",
      "📽️ Top 5 Recommended Movies:\n",
      "\n",
      "1. Ghilli (2004) - ⭐ IMDb Rating: 8.2 (Score: 5.0)\n"
     ]
    },
    {
     "data": {
      "text/html": [
       "<img src=\"https://m.media-amazon.com/images/M/MV5BMTFiODU5NjEtOTNjMy00MzUzLWEzYTMtZGU0NTdmYjkwNTM4XkEyXkFqcGc@._V1_SX300.jpg\"/>"
      ],
      "text/plain": [
       "<IPython.core.display.Image object>"
      ]
     },
     "metadata": {},
     "output_type": "display_data"
    },
    {
     "name": "stdout",
     "output_type": "stream",
     "text": [
      "2. Aadukalam (2011) - ⭐ IMDb Rating: 8.1 (Score: 5.0)\n"
     ]
    },
    {
     "data": {
      "text/html": [
       "<img src=\"https://m.media-amazon.com/images/M/MV5BYTM1MWI2ZDQtMTlmYy00YjRiLTk2OGYtM2YzYzEwMGIyMGU5XkEyXkFqcGc@._V1_SX300.jpg\"/>"
      ],
      "text/plain": [
       "<IPython.core.display.Image object>"
      ]
     },
     "metadata": {},
     "output_type": "display_data"
    },
    {
     "name": "stdout",
     "output_type": "stream",
     "text": [
      "3. Neethaane En Ponvasantham (2012) - ⭐ IMDb Rating: 6.5 (Score: 5.0)\n"
     ]
    },
    {
     "data": {
      "text/html": [
       "<img src=\"https://m.media-amazon.com/images/M/MV5BNDE2Y2VlNDEtZDk5Ni00NDhhLTg4YWItNWJmOWUyOWJmN2Q3XkEyXkFqcGc@._V1_SX300.jpg\"/>"
      ],
      "text/plain": [
       "<IPython.core.display.Image object>"
      ]
     },
     "metadata": {},
     "output_type": "display_data"
    },
    {
     "name": "stdout",
     "output_type": "stream",
     "text": [
      "4. Jai Bhim (2021) - ⭐ IMDb Rating: 8.7 (Score: 4.5)\n"
     ]
    },
    {
     "data": {
      "text/html": [
       "<img src=\"https://m.media-amazon.com/images/M/MV5BZjEyNDIzNmEtMjdkYS00ZDAwLTljOWYtNDRhYTVhYTlmOTk1XkEyXkFqcGc@._V1_SX300.jpg\"/>"
      ],
      "text/plain": [
       "<IPython.core.display.Image object>"
      ]
     },
     "metadata": {},
     "output_type": "display_data"
    },
    {
     "name": "stdout",
     "output_type": "stream",
     "text": [
      "5. Soorarai Pottru (2020) - ⭐ IMDb Rating: 8.7 (Score: 4.5)\n"
     ]
    },
    {
     "data": {
      "text/html": [
       "<img src=\"https://m.media-amazon.com/images/M/MV5BZTU5NTNmMjAtODM0Mi00YzU5LTk1OWQtZWU1NzZhMzBjYjY1XkEyXkFqcGc@._V1_SX300.jpg\"/>"
      ],
      "text/plain": [
       "<IPython.core.display.Image object>"
      ]
     },
     "metadata": {},
     "output_type": "display_data"
    }
   ],
   "source": [
    "import requests\n",
    "from IPython.display import Image, display\n",
    "\n",
    "# 🎬 Your OMDB API Key (Replace with a valid key)\n",
    "OMDB_API_KEY = '6df4500d'  \n",
    "\n",
    "# ✅ Movie list containing Malayalam & English movies\n",
    "movies = [\n",
    "    # Malayalam Movies\n",
    "    'Yodha', 'Virus', 'Kilukkam', 'Titanic', 'Mayamohini', 'Neelathamara',\n",
    "    'Joseph', 'Drishyam', 'Kali', '1983', 'Take Off', 'Angamaly Diaries',\n",
    "    'Operation Java', 'Manichitrathazhu', 'C U Soon', 'Minnal Murali',\n",
    "    'Hridayam', 'Rorschach', 'Charlie', 'Jallikattu', 'Bangalore Days',\n",
    "    'RRR', 'Kumbalangi Nights', 'Ennu Ninte Moideen', 'Ramaleela',\n",
    "    'Drishyam 2', 'Thondimuthalum Driksakshiyum', 'Thilakkam', 'Ravanaprabhu',\n",
    "    'Marco','Identity','Sookshma Darshini','Ponman','The Great Indian Kitchen',\n",
    "    'Aavesham','Rifle Club','Kishkindha Kaandam','Rekhachithram','Manjummel Boys',\n",
    "    'Pani','Bramayugam','Premalu','Bhoothakaalam','Narayaneente Moonnaanmakkal',\n",
    "    'Bougainvillea',' Iratta','Anweshippin Kandethum','Kurup','Malik',' A.R.M',\n",
    "    'Painkili','Kannur Squad',' Anand Sreebala'\n",
    "\n",
    "    # English Movies\n",
    "    'The Dark Knight', 'Black Panther', 'The Woman King', 'Thor: Love and Thunder',\n",
    "    'Jurassic World: Dominion', 'The Batman', 'Diamond Necklace', 'Plane',\n",
    "    'Avengers', 'The Antman', 'The Lord of the Rings', 'Inception',\n",
    "    'Spiderman', 'Avatar', 'The Shawshank Redemption', 'John Wick',\n",
    "    'Gladiator', 'Avengers Endgame', 'The Fast and the Furious',\n",
    "    'The Suicide Squad', 'The Mummy', 'The Lord of the Rings: The Return of the King',\n",
    "    'Infinite', 'Ford v Ferrari', 'Doctor Strange in the Multiverse of Madness',\n",
    "    'Beast', 'Guardians of the Galaxy', 'Murder Mystery', 'Star Wars',\n",
    "    'Suicide Squad', 'Infinity War', 'Transformers: Rise of the Beasts',\n",
    "    'Wonder Woman 1984', 'Deadpool', 'Deadpool 2', 'Kingsman: The Secret Service',\n",
    "    'Pirates of the Caribbean: The Curse of the Black Pearl'\n",
    "\n",
    "    #Hindi Movies\n",
    "    'The Kashmir Files','Rang De Basanti','3 Idiots','Like Stars on Earth',\n",
    "    'Lagaan: Once Upon a Time in India','Barfi!','Anand','Queen','Udaan',\n",
    "    'Kahaani','Dilwale Dulhania Le Jayenge ','Black','Madras Cafe',\n",
    "    'Vicky Donor','Highway','Oye Lucky! Lucky Oye!','Black Friday',\n",
    "    'Robber','Omkara','Sanam Teri Kasam','All We Imagine as Light',\n",
    "    'Slumdog Millionaire','Animal','Do Patti','Dangerous','PK',\n",
    "    'Gangubai Kathiawadi','My Name Is Khan','Aashiqui 2','Shaitaan','La Vaste',\n",
    "    'Devdas','Ghajini',' Laila Majnu','Lagaan: Once Upon a Time in India',\n",
    "    'Maidaan','Shershaah','Pathaan','Mohabbatein','Om Shanti Om','Padmaavat',\n",
    "    'Yeh Jawaani Hai Deewani','Krrish 3','Krrish','Koi... Mil Gaya'\n",
    "\n",
    "    #Tamil Movies\n",
    "    'Meiyazhagan','Nayakan','Anbe Sivam','Vaaranam Aayiram','96','Pithamagan',\n",
    "    'A Peck on the Cheek','Kaithi','Mahanadi','Hey Ram','Aadukalam',\n",
    "    'Kaakha Kaakha','Ghajini',' Aayitha Ezhuthu','Thalapathi','Anbe Sivam',\n",
    "    'Kadhalikka Neramillai','Mudhalvan','Indian','Ayan','Enthiran','Vishwaroopam',\n",
    "    'Thuppakki','Nanban','Kaththi','Ghilli','Anniyan','Saamy','Kanguva','Jai Bhim',\n",
    "    'Raatchasan','Jailer','Leo','Vettaiyan','Theri','Madraskaaran','The Great Indian Kitchen',\n",
    "    'Jigarthanda Double X','Master','Vaazhai','Thunivu','Soorarai Pottru','Aranmanai 4',\n",
    "    'Aranmanai 3','Aranmanai 2','Aranmanai','Ponniyin Selvan: Part I','Mersal','Chithha',\n",
    "    'Thuppakki','Dasavatharam','Gargi','Sarpatta Parambarai','Billa','Thirupaachi',\n",
    "    'Vallavan','Vallavan','Vaaranam Aayiram','Engeyum Kadhal',' Raatchasi',' Kanthaswamy',\n",
    "    'Neethaane En Ponvasantham','Maari','Nanban','Maattrraan','Remo'\n",
    "    \n",
    "]\n",
    "def get_movie_data(movie_title):\n",
    "    \"\"\"Fetches movie details from OMDB API.\"\"\"\n",
    "    url = f\"http://www.omdbapi.com/?t={movie_title}&apikey={OMDB_API_KEY}\"\n",
    "    \n",
    "    try:\n",
    "        response = requests.get(url).json()\n",
    "        if response.get('Response') == 'True':\n",
    "            return {\n",
    "                'Title': response.get('Title', 'Unknown'),\n",
    "                'Genre': response.get('Genre', 'Unknown'),\n",
    "                'Director': response.get('Director', 'Unknown'),\n",
    "                'Rating': float(response.get('imdbRating', 0)) if response.get('imdbRating', 'N/A') != 'N/A' else 0,\n",
    "                'Year': int(response.get('Year', 0)) if response.get('Year', 'Unknown').isdigit() else 0,\n",
    "                'Poster': response.get('Poster', ''),\n",
    "                'Language': response.get('Language', 'Unknown')\n",
    "            }\n",
    "    except Exception as e:\n",
    "        print(f\"⚠️ Error fetching data: {e}\")\n",
    "    \n",
    "    return None\n",
    "\n",
    "def recommend_5_similar_movies(user_movie_title):\n",
    "    \"\"\"Recommends 5 similar movies based on genre, director, language, and year proximity.\"\"\"\n",
    "    user_movie = get_movie_data(user_movie_title)\n",
    "\n",
    "    if not user_movie:\n",
    "        print(f\"❌ Movie '{user_movie_title}' not found.\")\n",
    "        return\n",
    "\n",
    "    print(f\"\\n🎬 Selected Movie: {user_movie['Title']} ({user_movie['Year']})\")\n",
    "    print(f\"⭐ Genre: {user_movie['Genre']} | 🎥 Director: {user_movie['Director']} | 🌍 Language: {user_movie['Language']}\")\n",
    "    print(\"🖼️ Poster:\")\n",
    "    if user_movie['Poster']:\n",
    "        display(Image(url=user_movie['Poster']))\n",
    "\n",
    "    user_genres = set(user_movie['Genre'].split(', '))  \n",
    "    user_director = user_movie['Director']\n",
    "    user_language = user_movie['Language']\n",
    "    user_year = user_movie['Year']\n",
    "\n",
    "    similar_movies = []\n",
    "\n",
    "    for movie in movies:\n",
    "        if movie.lower() == user_movie_title.lower():\n",
    "            continue  # Skip the selected movie itself\n",
    "\n",
    "        movie_data = get_movie_data(movie)\n",
    "        if not movie_data:\n",
    "            continue\n",
    "        \n",
    "        movie_genres = set(movie_data['Genre'].split(', '))\n",
    "        movie_director = movie_data['Director']\n",
    "        movie_language = movie_data['Language']\n",
    "        movie_year = movie_data['Year']\n",
    "\n",
    "        # Genre match percentage\n",
    "        genre_match = len(user_genres & movie_genres) / len(user_genres) if user_genres else 0\n",
    "\n",
    "        # Director match (strong match)\n",
    "        director_match = user_director == movie_director and user_director != \"Unknown\"\n",
    "\n",
    "        # Language match (strong match)\n",
    "        language_match = user_language == movie_language and user_language != \"Unknown\"\n",
    "\n",
    "        # Year similarity (if within a 5-year range)\n",
    "        year_match = abs(user_year - movie_year) <= 5 if user_year and movie_year else False\n",
    "\n",
    "        # Overall match score\n",
    "        match_score = (genre_match * 3) + (director_match * 2) + (language_match * 2) + (year_match * 1)\n",
    "\n",
    "        # Store results if match score is good\n",
    "        if match_score >= 2:  # Set threshold for better accuracy\n",
    "            similar_movies.append((match_score, movie_data))\n",
    "\n",
    "    # Sort by match score and IMDb rating\n",
    "    top_similar = sorted(similar_movies, key=lambda x: (x[0], x[1]['Rating']), reverse=True)[:5]\n",
    "\n",
    "    if top_similar:\n",
    "        print(\"\\n📽️ Top 5 Recommended Movies:\\n\")\n",
    "        for idx, (score, movie) in enumerate(top_similar, 1):\n",
    "            print(f\"{idx}. {movie['Title']} ({movie['Year']}) - ⭐ IMDb Rating: {movie['Rating']} (Score: {round(score, 2)})\")\n",
    "            if movie['Poster']:\n",
    "                display(Image(url=movie['Poster']))\n",
    "    else:\n",
    "        print(\"\\n❗ No similar movies found.\")\n",
    "\n",
    "\n",
    "# Example Usage\n",
    "user_movie_input ='96' # Change this to test with different movies\n",
    "recommend_5_similar_movies(user_movie_input)\n"
   ]
  },
  {
   "cell_type": "code",
   "execution_count": null,
   "id": "b2fe6e05-a511-4785-b08b-dbce47a0b8dd",
   "metadata": {},
   "outputs": [],
   "source": []
  }
 ],
 "metadata": {
  "kernelspec": {
   "display_name": "Python 3 (ipykernel)",
   "language": "python",
   "name": "python3"
  },
  "language_info": {
   "codemirror_mode": {
    "name": "ipython",
    "version": 3
   },
   "file_extension": ".py",
   "mimetype": "text/x-python",
   "name": "python",
   "nbconvert_exporter": "python",
   "pygments_lexer": "ipython3",
   "version": "3.12.7"
  }
 },
 "nbformat": 4,
 "nbformat_minor": 5
}
